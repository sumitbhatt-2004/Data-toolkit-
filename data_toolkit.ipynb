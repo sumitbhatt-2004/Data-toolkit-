{
  "nbformat": 4,
  "nbformat_minor": 0,
  "metadata": {
    "colab": {
      "provenance": []
    },
    "kernelspec": {
      "name": "python3",
      "display_name": "Python 3"
    },
    "language_info": {
      "name": "python"
    }
  },
  "cells": [
    {
      "cell_type": "markdown",
      "source": [
        "Question : What is NumPy, and why is it widely used in Python?\n",
        "\n",
        "solution : NumPy, short for Numerical Python, is a powerful library in Python primarily used for numerical computing. It allows users to work with multidimensional arrays and matrices, alongside a collection of mathematical functions to perform operations on these arrays efficiently.\n",
        "\n",
        "Key reasons for its widespread usage:\n",
        "\n",
        "**Performance**: NumPy arrays are more efficient in terms of memory and processing speed compared to Python lists.\n",
        "\n",
        "**Functionality**: It provides capabilities for linear algebra, Fourier transforms, random number generation, and more.\n",
        "\n",
        "**Integration**: NumPy serves as a foundational package for many other libraries, including Pandas and SciPy, making it a crucial component in the data science ecosystem."
      ],
      "metadata": {
        "id": "eUFtlOZ6PU1E"
      }
    },
    {
      "cell_type": "markdown",
      "source": [
        "Question : How does broadcasting work in NumPy?\n",
        "\n",
        "solution : Broadcasting is a powerful mechanism that allows NumPy to perform arithmetic operations on arrays of different shapes. It automatically expands the dimensions of the smaller array to match the larger one during arithmetic operations, enabling element-wise computations without explicit duplication of data.\n",
        "\n",
        "**How it works:**\n",
        "\n",
        "**Shape Compatibility:** NumPy compares the shape of the two arrays from the last dimension to the first.\n",
        "\n",
        "**Dimension Expansion:** When dimensions are different, NumPy replicates the size of the smaller array.\n",
        "\n",
        "**Element-wise Operations:** Once shapes are compatible, operations are carried out element-wise."
      ],
      "metadata": {
        "id": "U2XGaA80WtdT"
      }
    },
    {
      "cell_type": "markdown",
      "source": [
        "Question : What is a Pandas DataFrame?\n",
        "\n",
        "solution : A DataFrame in Pandas is a two-dimensional, size-mutable, and potentially heterogeneous tabular data structure with labeled axes (rows and columns). It’s similar to a SQL table or a spreadsheet, making it easy to work with structured data.\n",
        "\n",
        "Key features of DataFrames:\n",
        "\n",
        "**Labeled Axes:** Rows and columns have labels, enhancing data manipulation and retrieval.\n",
        "\n",
        "**Mixed Data Types:** Columns can hold different types of data (e.g., integers, floats, strings).\n",
        "\n",
        "**Built-in Functions:** Pandas provides numerous methods for data analysis, cleaning, and visualization"
      ],
      "metadata": {
        "id": "5Zcoxn2gXqzF"
      }
    },
    {
      "cell_type": "markdown",
      "source": [
        "Question : Explain the use of the groupby() method in Pandas\n",
        "\n",
        "solution :  The groupby() method in Pandas is used to split the data into groups based on some criteria. It’s a powerful tool for performing aggregations or transformations on subsets of data.\n",
        "\n",
        "Use cases of groupby():\n",
        "\n",
        "**Aggregation**: Calculate statistics like mean, sum, or count for each group.\n",
        "\n",
        "**Transformation**: Apply a function to transform data within each group.\n",
        "\n",
        "**Filtering**: Exclude groups based on aggregate characteristics."
      ],
      "metadata": {
        "id": "Qq99LPWWYbrd"
      }
    },
    {
      "cell_type": "markdown",
      "source": [
        "Question : Why is Seaborn preferred for statistical visualizations?\n",
        "\n",
        "solution : Seaborn is a visualization library based on Matplotlib, specifically tailored for statistical data visualization. It is preferred due to:\n",
        "\n",
        "**Built-in Themes:** Seaborn comes with attractive default styles and color palettes, making plots aesthetically pleasing with minimal effort.\n",
        "\n",
        "**Statistical Functions:** It provides functions for drawing statistical plots (like heat maps or violin plots) that are more complex.\n",
        "\n",
        "**Integration with Pandas:** Seamless interaction with Pandas DataFrames, allowing for easy plotting of complex datasets without extensive data preprocessing."
      ],
      "metadata": {
        "id": "XxCC5nqfY5TL"
      }
    },
    {
      "cell_type": "markdown",
      "source": [
        "Question : What are the differences between NumPy arrays and Python lists?\n",
        "\n",
        "solution: NumPy arrays and Python lists serve as fundamental data structures in Python, yet they differ significantly in their characteristics and capabilities. NumPy arrays are designed for numerical computations, offering a homogeneous data structure where all elements must be of the same type, which leads to more efficient storage and faster operations. In contrast, Python lists are heterogeneous, allowing elements of different data types within the same list, providing flexibility but sacrificing performance in numerical computations. NumPy leverages vectorized operations to perform element-wise computations efficiently, while Python lists require explicit looping, resulting in slower execution. Moreover, NumPy arrays consume less memory due to their compact storage and provide a wide array of mathematical functions and operations tailored for numerical tasks, making them indispensable for data analysis, scientific computing, and machine learning.\n",
        "\n",
        ""
      ],
      "metadata": {
        "id": "-tAuhRARaXPC"
      }
    },
    {
      "cell_type": "markdown",
      "source": [
        "question : What is a heatmap, and when should it be used?\n",
        "\n",
        "solution : A heatmap is a graphical representation of data where individual values are represented as colors. This method is useful for visualizing complex data matrices and identifying patterns.\n",
        "\n",
        "When to use a heatmap:\n",
        "\n",
        "To visualize the correlation matrix of a dataset.\n",
        "For displaying frequency of two-dimensional data."
      ],
      "metadata": {
        "id": "Ft9BOfaCb04e"
      }
    },
    {
      "cell_type": "markdown",
      "source": [
        "Question : What does the term “vectorized operation” mean in NumPy?\n",
        "\n",
        "solution : A vectorized operation in NumPy refers to the ability to apply operations on entire arrays (or large quantities of elements) at once, rather than using loops to operate on each element individually. This is made possible by NumPy’s internal optimizations and underlying implementation in C, allowing:\n",
        "\n",
        "**Faster Execution:** Vectorized operations are generally faster due to lower overhead.\n",
        "\n",
        "**Cleaner Code:** Reduces the clutter in code, making it more readable and easier to write."
      ],
      "metadata": {
        "id": "ocfSQnfnt-oc"
      }
    },
    {
      "cell_type": "markdown",
      "source": [
        "Question : How does Matplotlib differ from Plotly?\n",
        "\n",
        "solution : Matplotlib creates static, basic graphs, ideal for simple charts in reports. Plotly, on the other hand, produces interactive and visually richer graphs, perfect for exploring data and embedding on websites. Matplotlib is straightforward for quick visualizations, while Plotly offers advanced interactivity and aesthetics."
      ],
      "metadata": {
        "id": "57ym-Kzvu1_L"
      }
    },
    {
      "cell_type": "markdown",
      "source": [
        "question : What is the significance of hierarchical indexing in Pandas?\n",
        "\n",
        "solution : Hierarchical indexing (or multi-indexing) allows for the use of multiple index levels in Pandas, providing a way to represent higher-dimensional data in a two-dimensional structure.\n",
        "\n",
        "**Benefits include:**\n",
        "\n",
        "**More Complex Data Structures:** Allows for easier handling of data with multiple categorical values.\n",
        "\n",
        "**Enhanced Data Manipulation:** Facilitates easier data selection and aggregation along multiple dimensions."
      ],
      "metadata": {
        "id": "xsaCYE3YvoVa"
      }
    },
    {
      "cell_type": "markdown",
      "source": [
        "Question : What is the role of Seaborn’s pairplot() function?\n",
        "\n",
        "solution : The pairplot() function in Seaborn allows users to visualize relationships between multiple variables in a dataset. It creates a matrix of scatter plots for numerical variables, showing pairwise relationships.\n",
        "\n",
        "Key features:\n",
        "\n",
        "**Visualize Correlations:** Easily spot trends and correlations between multiple variables.\n",
        "\n",
        "**Categorical Support:** Can color-code points based on a categorical variable, enhancing visual insights."
      ],
      "metadata": {
        "id": "Z9g9BiwpwVua"
      }
    },
    {
      "cell_type": "markdown",
      "source": [
        "Question What is the purpose of the describe() function in Pandas?\n",
        "\n",
        "solution : The describe() function provides a quick summary of the statistical properties of DataFrame columns. It computes metrics such as:\n",
        "\n",
        "**Count:** Number of non-null observations.\n",
        "\n",
        "**Mean:** Average value.\n",
        "\n",
        "**standard Deviation** Measure of variability.\n",
        "\n",
        "**Min/Max**: Extremes in the dataset.\n",
        "\n",
        "This function helps in gaining a quick overview of the dataset's characteristics before deeper analysis"
      ],
      "metadata": {
        "id": "g2gKdYjHwu43"
      }
    },
    {
      "cell_type": "markdown",
      "source": [
        "Question : Why is handling missing data important in Pandas?\n",
        "\n",
        "solution : Handling missing data is critical in Pandas because it can significantly affect the quality of data analysis. Missing values can lead to:\n",
        "\n",
        "**Biased Results:** Analysis can yield misleading results if missing data is not appropriately managed.\n",
        "\n",
        "**Error in Calculations:** Many mathematical operations cannot be performed with missing values.\n",
        "\n",
        "**Informed Decisions**: By handling missing values, analysts can make clearer data-driven decisions"
      ],
      "metadata": {
        "id": "7Fa_D_hUxnMc"
      }
    },
    {
      "cell_type": "markdown",
      "source": [
        "Question : What are the benefits of using Plotly for data visualization?\n",
        "\n",
        "solution Plotly offers numerous benefits for data visualization:\n",
        "\n",
        "**Interactivity:** Plots are inherently interactive, allowing users to hover, zoom, and click for details.\n",
        "Web Integration: Generates interactive plots suitable for web applications.\n",
        "\n",
        "**Handling Large Data:** Can efficiently visualize large datasets without performance degradation.\n",
        "\n",
        "**Easy Customization:** Provides easy ways to customize tools and features for specific needs."
      ],
      "metadata": {
        "id": "l-McowI8y4W-"
      }
    },
    {
      "cell_type": "markdown",
      "source": [
        "Question : How does NumPy handle multidimensional arrays?\n",
        "\n",
        "solution : NumPy handles multidimensional arrays efficiently using the ndarray object. Key aspects include:\n",
        "\n",
        "**N-Dimensional Arrays:** It allows the creation of arrays with any number of dimensions (2D, 3D, etc.).\n",
        "\n",
        "**Element-wise Operations:** Supports operations across dimensions without the need for explicit loops, taking advantage of broadcasting.\n",
        "\n",
        "**Slicing and Indexing:** Facilitates advanced slicing capabilities that allow for easy data manipulation across various dimensions"
      ],
      "metadata": {
        "id": "qH6GYaM7zZxr"
      }
    },
    {
      "cell_type": "markdown",
      "source": [
        "Question : What is the role of Bokeh in data visualization?\n",
        "\n",
        "solution : Bokeh is an interactive visualization library that focuses on creating web-ready visualizations. Its main roles include:\n",
        "\n",
        "**Interactive Plots:** Bokeh allows users to create dynamic plots that respond to user interactions.\n",
        "\n",
        "**Versatile Outputs:** Generates visualizations compatible with tools like web browsers.\n",
        "\n",
        "**Built-in Data Handling:** Facilitates the handling of large datasets without performance loss."
      ],
      "metadata": {
        "id": "6RYXVBlY0BnR"
      }
    },
    {
      "cell_type": "markdown",
      "source": [
        "Q uestion : Explain the difference between apply() and map() in Pandas\n",
        "\n",
        "solution : `apply():`\n",
        "Works on entire rows or columns in a DataFrame.\n",
        "Can apply functions that return multiple values or apply complex functions over an axis.\n",
        "\n",
        "`map():`\n",
        "Used to map values of a Series according to the specified input.\n",
        "Generally used for simpler functions that return a single value for each original value."
      ],
      "metadata": {
        "id": "keUOPWYt0YGs"
      }
    },
    {
      "cell_type": "markdown",
      "source": [
        "Question : What are some advanced features of NumPy?\n",
        "\n",
        "solution : **Universal Functions (ufuncs):** Perform element-wise operations, such as **sin, cos, etc.**\n",
        "\n",
        "**Linear Algebra Functions:** numpy.linalg provides tools for linear algebra, including matrix decompositions.\n",
        "\n",
        "**Random Number Generation:** Comprehensive functions for generating random numbers from different distributions.\n",
        "\n",
        "**Fourier Transforms:** Efficient computations for Fourier Transform using `numpy.fft.`"
      ],
      "metadata": {
        "id": "suYORj0i1DKI"
      }
    },
    {
      "cell_type": "markdown",
      "source": [
        "question : How does Pandas simplify time series analysis?\n",
        "\n",
        "solution : Pandas simplifies time series analysis through:\n",
        "\n",
        "**Datetime Indexing:** Easy manipulation of date and time data, allowing for slicing, filtering, and resampling.\n",
        "\n",
        "**Built-in Functions:** Provides methods for calculating rolling averages, frequencies, and shifting data.\n",
        "\n",
        "**Time Zone Handling:** Facilitates the handling of time zone-aware timestamps, making it easier to work across different time zones."
      ],
      "metadata": {
        "id": "ehWkzuRP1u-V"
      }
    },
    {
      "cell_type": "markdown",
      "source": [
        "Question : What is the role of a pivot table in Pandas?\n",
        "\n",
        "solution : A pivot table in Pandas provides a way to summarize and reorganize data by selecting a subset of columns and aggregating values. Its key aspects include:\n",
        "\n",
        "**Data Summarization:** Quickly transforms and summarizes data, facilitating insights.\n",
        "\n",
        "**Multi-dimensionality:** Can group data by multiple parameters, presenting data in a flexible way.\n",
        "\n",
        "**Aggregation Functions:** Supports various aggregation methods (mean, sum, count) for summarizing data."
      ],
      "metadata": {
        "id": "vbooEQaf2dCt"
      }
    },
    {
      "cell_type": "markdown",
      "source": [
        "Question : Why is NumPy’s array slicing faster than Python’s list slicing?\n",
        "\n",
        "solution : NumPy’s array slicing is faster than Python’s list slicing due to:\n",
        "\n",
        "**Contiguous Block of Memory:** NumPy arrays allocate a contiguous block of memory which allows direct access and manipulation without needing to create new data structures.\n",
        "\n",
        "**Vectorized Operations:** More efficient operations performed at a lower level of abstraction.\n",
        "\n",
        "**Less Overhead:** NumPy avoids the overhead of Python's dynamic typing for lists, utilizing fixed data types for all elements"
      ],
      "metadata": {
        "id": "VtZgG5_X3Bgt"
      }
    },
    {
      "cell_type": "markdown",
      "source": [
        "Question : What are some common use cases for Seaborn?\n",
        "\n",
        "solution :** Visualization of Statistical Relationships:** Easily create scatter plots, line plots, and regression plots.\n",
        "\n",
        "**Exploration of Distribution:** Use histograms and violin plots to examine the distribution of data.\n",
        "\n",
        "**Categorical Data Visualization:** Create box plots and categorical scatter plots to analyze differences across categories.\n",
        "\n",
        "**Heatmaps of Correlation:** Quickly visualize correlations and relationships between variables."
      ],
      "metadata": {
        "id": "bhHFS_Lg3dG5"
      }
    },
    {
      "cell_type": "markdown",
      "source": [
        "PRACTICAL QUESTION :"
      ],
      "metadata": {
        "id": "yeSEqOKG31wg"
      }
    },
    {
      "cell_type": "markdown",
      "source": [
        "SOLUTION 1 : Creating a 2D NumPy Array and Calculating the Sum of Each Row"
      ],
      "metadata": {
        "id": "DAVpTmAf3-Xa"
      }
    },
    {
      "cell_type": "code",
      "source": [
        "import numpy as np\n",
        "\n",
        "# Creating a 2D NumPy array\n",
        "array_2d = np.array([[1, 2, 3],\n",
        "                     [4, 5, 6],\n",
        "                     [7, 8, 9]])\n",
        "\n",
        "# Calculating the sum of each row\n",
        "row_sums = np.sum(array_2d, axis=1)\n",
        "print(\"Sum of each row:\", row_sums)\n"
      ],
      "metadata": {
        "colab": {
          "base_uri": "https://localhost:8080/"
        },
        "id": "LS1GFpEm6jcd",
        "outputId": "93552821-55b0-4f8b-9042-5b35fb127289"
      },
      "execution_count": 1,
      "outputs": [
        {
          "output_type": "stream",
          "name": "stdout",
          "text": [
            "Sum of each row: [ 6 15 24]\n"
          ]
        }
      ]
    },
    {
      "cell_type": "markdown",
      "source": [
        "SOLUTION 2 : Pandas Script to Find the Mean of a Specific Column"
      ],
      "metadata": {
        "id": "NUU4kq7Q6yfh"
      }
    },
    {
      "cell_type": "code",
      "source": [
        "import pandas as pd\n",
        "\n",
        "# Assuming DataFrame is already created (replace with actual data)\n",
        "data = {'A': [10, 20, 30], 'B': [5, 10, 15]}\n",
        "df = pd.DataFrame(data)\n",
        "\n",
        "# Finding the mean of column 'A'\n",
        "mean_A = df['A'].mean()\n",
        "print(\"Mean of column A:\", mean_A)\n"
      ],
      "metadata": {
        "colab": {
          "base_uri": "https://localhost:8080/"
        },
        "id": "zJbWyMFd7N8i",
        "outputId": "59abda47-2a3a-4ba3-8552-4d37f86c378f"
      },
      "execution_count": 4,
      "outputs": [
        {
          "output_type": "stream",
          "name": "stdout",
          "text": [
            "Mean of column A: 20.0\n"
          ]
        }
      ]
    },
    {
      "cell_type": "markdown",
      "source": [
        "SOLUTION 3 : Creating a Scatter Plot Using Matplotlib"
      ],
      "metadata": {
        "id": "eNGbcnIY7RFT"
      }
    },
    {
      "cell_type": "code",
      "source": [
        "import matplotlib.pyplot as plt\n",
        "\n",
        "# Sample data\n",
        "x = [1, 2, 3, 4, 5]\n",
        "y = [2, 3, 5, 7, 11]\n",
        "\n",
        "# Creating a scatter plot\n",
        "plt.scatter(x, y)\n",
        "plt.title(\"Scatter Plot\")\n",
        "plt.xlabel(\"X-axis\")\n",
        "plt.ylabel(\"Y-axis\")\n",
        "plt.show()\n"
      ],
      "metadata": {
        "colab": {
          "base_uri": "https://localhost:8080/",
          "height": 472
        },
        "id": "hXsZyair7Qrj",
        "outputId": "7b3271d3-054d-4a75-c16f-251193d249d4"
      },
      "execution_count": 5,
      "outputs": [
        {
          "output_type": "display_data",
          "data": {
            "text/plain": [
              "<Figure size 640x480 with 1 Axes>"
            ],
            "image/png": "[encoded data removed]"
          },
          "metadata": {}
        }
      ]
    },
    {
      "cell_type": "markdown",
      "source": [
        "SOLUTION 4 : Calculating the Correlation Matrix Using Seaborn and Visualizing It with a Heatmap"
      ],
      "metadata": {
        "id": "ezzLfQUn7fKs"
      }
    },
    {
      "cell_type": "code",
      "source": [
        "import seaborn as sns\n",
        "import pandas as pd\n",
        "import matplotlib.pyplot as plt\n",
        "\n",
        "# Sample data\n",
        "data = {'A': [1, 2, 3, 5],\n",
        "        'B': [5, 6, 7, 10],\n",
        "        'C': [9, 8, 7, 6]}\n",
        "df = pd.DataFrame(data)\n",
        "\n",
        "# Calculating correlation matrix\n",
        "correlation_matrix = df.corr()\n",
        "\n",
        "# Visualizing the correlation matrix with a heatmap\n",
        "sns.heatmap(correlation_matrix, annot=True, cmap='coolwarm')\n",
        "plt.title(\"Correlation Matrix Heatmap\")\n",
        "plt.show()\n"
      ],
      "metadata": {
        "colab": {
          "base_uri": "https://localhost:8080/",
          "height": 452
        },
        "id": "i-ei-D-f7exj",
        "outputId": "5606a287-8c00-40bc-9d89-c419103b909a"
      },
      "execution_count": 6,
      "outputs": [
        {
          "output_type": "display_data",
          "data": {
            "text/plain": [
              "<Figure size 640x480 with 2 Axes>"
            ],
            "image/png": "[encoded data removed]"
          },
          "metadata": {}
        }
      ]
    },
    {
      "cell_type": "markdown",
      "source": [
        "SOLUTION 5: Generating a Bar Plot Using Plotly"
      ],
      "metadata": {
        "id": "5mOsiG_q7wve"
      }
    },
    {
      "cell_type": "code",
      "source": [
        "import plotly.express as px\n",
        "\n",
        "# Sample data\n",
        "data = {'Category': ['A', 'B', 'C'],\n",
        "        'Values': [10, 20, 15]}\n",
        "df = pd.DataFrame(data)\n",
        "\n",
        "# Generating a bar plot\n",
        "fig = px.bar(df, x='Category', y='Values', title='Bar Plot Example')\n",
        "fig.show()\n"
      ],
      "metadata": {
        "colab": {
          "base_uri": "https://localhost:8080/",
          "height": 542
        },
        "id": "0lIpZeQt7wPD",
        "outputId": "8ecfa294-6e2a-40f1-ef67-74a8ee4b1a40"
      },
      "execution_count": 7,
      "outputs": [
        {
          "output_type": "display_data",
          "data": {
            "text/html": [
              "<html>\n",
              "<head><meta charset=\"utf-8\" /></head>\n",
              "<body>\n",
              "    <div>            <script src=\"https://cdnjs.cloudflare.com/ajax/libs/mathjax/2.7.5/MathJax.js?config=TeX-AMS-MML_SVG\"></script><script type=\"text/javascript\">if (window.MathJax && window.MathJax.Hub && window.MathJax.Hub.Config) {window.MathJax.Hub.Config({SVG: {font: \"STIX-Web\"}});}</script>                <script type=\"text/javascript\">window.PlotlyConfig = {MathJaxConfig: 'local'};</script>\n",
              "        <script charset=\"utf-8\" src=\"https://cdn.plot.ly/plotly-2.35.2.min.js\"></script>                <div id=\"a273ae84-65c2-48c5-afd2-cf3eaac46d83\" class=\"plotly-graph-div\" style=\"height:525px; width:100%;\"></div>            <script type=\"text/javascript\">                                    window.PLOTLYENV=window.PLOTLYENV || {};                                    if (document.getElementById(\"a273ae84-65c2-48c5-afd2-cf3eaac46d83\")) {                    Plotly.newPlot(                        \"a273ae84-65c2-48c5-afd2-cf3eaac46d83\",                        [{\"alignmentgroup\":\"True\",\"hovertemplate\":\"Category=%{x}\\u003cbr\\u003eValues=%{y}\\u003cextra\\u003e\\u003c\\u002fextra\\u003e\",\"legendgroup\":\"\",\"marker\":{\"color\":\"#636efa\",\"pattern\":{\"shape\":\"\"}},\"name\":\"\",\"offsetgroup\":\"\",\"orientation\":\"v\",\"showlegend\":false,\"textposition\":\"auto\",\"x\":[\"A\",\"B\",\"C\"],\"xaxis\":\"x\",\"y\":[10,20,15],\"yaxis\":\"y\",\"type\":\"bar\"}],                        {\"template\":{\"data\":{\"histogram2dcontour\":[{\"type\":\"histogram2dcontour\",\"colorbar\":{\"outlinewidth\":0,\"ticks\":\"\"},\"colorscale\":[[0.0,\"#0d0887\"],[0.1111111111111111,\"#46039f\"],[0.2222222222222222,\"#7201a8\"],[0.3333333333333333,\"#9c179e\"],[0.4444444444444444,\"#bd3786\"],[0.5555555555555556,\"#d8576b\"],[0.6666666666666666,\"#ed7953\"],[0.7777777777777778,\"#fb9f3a\"],[0.8888888888888888,\"#fdca26\"],[1.0,\"#f0f921\"]]}],\"choropleth\":[{\"type\":\"choropleth\",\"colorbar\":{\"outlinewidth\":0,\"ticks\":\"\"}}],\"histogram2d\":[{\"type\":\"histogram2d\",\"colorbar\":{\"outlinewidth\":0,\"ticks\":\"\"},\"colorscale\":[[0.0,\"#0d0887\"],[0.1111111111111111,\"#46039f\"],[0.2222222222222222,\"#7201a8\"],[0.3333333333333333,\"#9c179e\"],[0.4444444444444444,\"#bd3786\"],[0.5555555555555556,\"#d8576b\"],[0.6666666666666666,\"#ed7953\"],[0.7777777777777778,\"#fb9f3a\"],[0.8888888888888888,\"#fdca26\"],[1.0,\"#f0f921\"]]}],\"heatmap\":[{\"type\":\"heatmap\",\"colorbar\":{\"outlinewidth\":0,\"ticks\":\"\"},\"colorscale\":[[0.0,\"#0d0887\"],[0.1111111111111111,\"#46039f\"],[0.2222222222222222,\"#7201a8\"],[0.3333333333333333,\"#9c179e\"],[0.4444444444444444,\"#bd3786\"],[0.5555555555555556,\"#d8576b\"],[0.6666666666666666,\"#ed7953\"],[0.7777777777777778,\"#fb9f3a\"],[0.8888888888888888,\"#fdca26\"],[1.0,\"#f0f921\"]]}],\"heatmapgl\":[{\"type\":\"heatmapgl\",\"colorbar\":{\"outlinewidth\":0,\"ticks\":\"\"},\"colorscale\":[[0.0,\"#0d0887\"],[0.1111111111111111,\"#46039f\"],[0.2222222222222222,\"#7201a8\"],[0.3333333333333333,\"#9c179e\"],[0.4444444444444444,\"#bd3786\"],[0.5555555555555556,\"#d8576b\"],[0.6666666666666666,\"#ed7953\"],[0.7777777777777778,\"#fb9f3a\"],[0.8888888888888888,\"#fdca26\"],[1.0,\"#f0f921\"]]}],\"contourcarpet\":[{\"type\":\"contourcarpet\",\"colorbar\":{\"outlinewidth\":0,\"ticks\":\"\"}}],\"contour\":[{\"type\":\"contour\",\"colorbar\":{\"outlinewidth\":0,\"ticks\":\"\"},\"colorscale\":[[0.0,\"#0d0887\"],[0.1111111111111111,\"#46039f\"],[0.2222222222222222,\"#7201a8\"],[0.3333333333333333,\"#9c179e\"],[0.4444444444444444,\"#bd3786\"],[0.5555555555555556,\"#d8576b\"],[0.6666666666666666,\"#ed7953\"],[0.7777777777777778,\"#fb9f3a\"],[0.8888888888888888,\"#fdca26\"],[1.0,\"#f0f921\"]]}],\"surface\":[{\"type\":\"surface\",\"colorbar\":{\"outlinewidth\":0,\"ticks\":\"\"},\"colorscale\":[[0.0,\"#0d0887\"],[0.1111111111111111,\"#46039f\"],[0.2222222222222222,\"#7201a8\"],[0.3333333333333333,\"#9c179e\"],[0.4444444444444444,\"#bd3786\"],[0.5555555555555556,\"#d8576b\"],[0.6666666666666666,\"#ed7953\"],[0.7777777777777778,\"#fb9f3a\"],[0.8888888888888888,\"#fdca26\"],[1.0,\"#f0f921\"]]}],\"mesh3d\":[{\"type\":\"mesh3d\",\"colorbar\":{\"outlinewidth\":0,\"ticks\":\"\"}}],\"scatter\":[{\"fillpattern\":{\"fillmode\":\"overlay\",\"size\":10,\"solidity\":0.2},\"type\":\"scatter\"}],\"parcoords\":[{\"type\":\"parcoords\",\"line\":{\"colorbar\":{\"outlinewidth\":0,\"ticks\":\"\"}}}],\"scatterpolargl\":[{\"type\":\"scatterpolargl\",\"marker\":{\"colorbar\":{\"outlinewidth\":0,\"ticks\":\"\"}}}],\"bar\":[{\"error_x\":{\"color\":\"#2a3f5f\"},\"error_y\":{\"color\":\"#2a3f5f\"},\"marker\":{\"line\":{\"color\":\"#E5ECF6\",\"width\":0.5},\"pattern\":{\"fillmode\":\"overlay\",\"size\":10,\"solidity\":0.2}},\"type\":\"bar\"}],\"scattergeo\":[{\"type\":\"scattergeo\",\"marker\":{\"colorbar\":{\"outlinewidth\":0,\"ticks\":\"\"}}}],\"scatterpolar\":[{\"type\":\"scatterpolar\",\"marker\":{\"colorbar\":{\"outlinewidth\":0,\"ticks\":\"\"}}}],\"histogram\":[{\"marker\":{\"pattern\":{\"fillmode\":\"overlay\",\"size\":10,\"solidity\":0.2}},\"type\":\"histogram\"}],\"scattergl\":[{\"type\":\"scattergl\",\"marker\":{\"colorbar\":{\"outlinewidth\":0,\"ticks\":\"\"}}}],\"scatter3d\":[{\"type\":\"scatter3d\",\"line\":{\"colorbar\":{\"outlinewidth\":0,\"ticks\":\"\"}},\"marker\":{\"colorbar\":{\"outlinewidth\":0,\"ticks\":\"\"}}}],\"scattermapbox\":[{\"type\":\"scattermapbox\",\"marker\":{\"colorbar\":{\"outlinewidth\":0,\"ticks\":\"\"}}}],\"scatterternary\":[{\"type\":\"scatterternary\",\"marker\":{\"colorbar\":{\"outlinewidth\":0,\"ticks\":\"\"}}}],\"scattercarpet\":[{\"type\":\"scattercarpet\",\"marker\":{\"colorbar\":{\"outlinewidth\":0,\"ticks\":\"\"}}}],\"carpet\":[{\"aaxis\":{\"endlinecolor\":\"#2a3f5f\",\"gridcolor\":\"white\",\"linecolor\":\"white\",\"minorgridcolor\":\"white\",\"startlinecolor\":\"#2a3f5f\"},\"baxis\":{\"endlinecolor\":\"#2a3f5f\",\"gridcolor\":\"white\",\"linecolor\":\"white\",\"minorgridcolor\":\"white\",\"startlinecolor\":\"#2a3f5f\"},\"type\":\"carpet\"}],\"table\":[{\"cells\":{\"fill\":{\"color\":\"#EBF0F8\"},\"line\":{\"color\":\"white\"}},\"header\":{\"fill\":{\"color\":\"#C8D4E3\"},\"line\":{\"color\":\"white\"}},\"type\":\"table\"}],\"barpolar\":[{\"marker\":{\"line\":{\"color\":\"#E5ECF6\",\"width\":0.5},\"pattern\":{\"fillmode\":\"overlay\",\"size\":10,\"solidity\":0.2}},\"type\":\"barpolar\"}],\"pie\":[{\"automargin\":true,\"type\":\"pie\"}]},\"layout\":{\"autotypenumbers\":\"strict\",\"colorway\":[\"#636efa\",\"#EF553B\",\"#00cc96\",\"#ab63fa\",\"#FFA15A\",\"#19d3f3\",\"#FF6692\",\"#B6E880\",\"#FF97FF\",\"#FECB52\"],\"font\":{\"color\":\"#2a3f5f\"},\"hovermode\":\"closest\",\"hoverlabel\":{\"align\":\"left\"},\"paper_bgcolor\":\"white\",\"plot_bgcolor\":\"#E5ECF6\",\"polar\":{\"bgcolor\":\"#E5ECF6\",\"angularaxis\":{\"gridcolor\":\"white\",\"linecolor\":\"white\",\"ticks\":\"\"},\"radialaxis\":{\"gridcolor\":\"white\",\"linecolor\":\"white\",\"ticks\":\"\"}},\"ternary\":{\"bgcolor\":\"#E5ECF6\",\"aaxis\":{\"gridcolor\":\"white\",\"linecolor\":\"white\",\"ticks\":\"\"},\"baxis\":{\"gridcolor\":\"white\",\"linecolor\":\"white\",\"ticks\":\"\"},\"caxis\":{\"gridcolor\":\"white\",\"linecolor\":\"white\",\"ticks\":\"\"}},\"coloraxis\":{\"colorbar\":{\"outlinewidth\":0,\"ticks\":\"\"}},\"colorscale\":{\"sequential\":[[0.0,\"#0d0887\"],[0.1111111111111111,\"#46039f\"],[0.2222222222222222,\"#7201a8\"],[0.3333333333333333,\"#9c179e\"],[0.4444444444444444,\"#bd3786\"],[0.5555555555555556,\"#d8576b\"],[0.6666666666666666,\"#ed7953\"],[0.7777777777777778,\"#fb9f3a\"],[0.8888888888888888,\"#fdca26\"],[1.0,\"#f0f921\"]],\"sequentialminus\":[[0.0,\"#0d0887\"],[0.1111111111111111,\"#46039f\"],[0.2222222222222222,\"#7201a8\"],[0.3333333333333333,\"#9c179e\"],[0.4444444444444444,\"#bd3786\"],[0.5555555555555556,\"#d8576b\"],[0.6666666666666666,\"#ed7953\"],[0.7777777777777778,\"#fb9f3a\"],[0.8888888888888888,\"#fdca26\"],[1.0,\"#f0f921\"]],\"diverging\":[[0,\"#8e0152\"],[0.1,\"#c51b7d\"],[0.2,\"#de77ae\"],[0.3,\"#f1b6da\"],[0.4,\"#fde0ef\"],[0.5,\"#f7f7f7\"],[0.6,\"#e6f5d0\"],[0.7,\"#b8e186\"],[0.8,\"#7fbc41\"],[0.9,\"#4d9221\"],[1,\"#276419\"]]},\"xaxis\":{\"gridcolor\":\"white\",\"linecolor\":\"white\",\"ticks\":\"\",\"title\":{\"standoff\":15},\"zerolinecolor\":\"white\",\"automargin\":true,\"zerolinewidth\":2},\"yaxis\":{\"gridcolor\":\"white\",\"linecolor\":\"white\",\"ticks\":\"\",\"title\":{\"standoff\":15},\"zerolinecolor\":\"white\",\"automargin\":true,\"zerolinewidth\":2},\"scene\":{\"xaxis\":{\"backgroundcolor\":\"#E5ECF6\",\"gridcolor\":\"white\",\"linecolor\":\"white\",\"showbackground\":true,\"ticks\":\"\",\"zerolinecolor\":\"white\",\"gridwidth\":2},\"yaxis\":{\"backgroundcolor\":\"#E5ECF6\",\"gridcolor\":\"white\",\"linecolor\":\"white\",\"showbackground\":true,\"ticks\":\"\",\"zerolinecolor\":\"white\",\"gridwidth\":2},\"zaxis\":{\"backgroundcolor\":\"#E5ECF6\",\"gridcolor\":\"white\",\"linecolor\":\"white\",\"showbackground\":true,\"ticks\":\"\",\"zerolinecolor\":\"white\",\"gridwidth\":2}},\"shapedefaults\":{\"line\":{\"color\":\"#2a3f5f\"}},\"annotationdefaults\":{\"arrowcolor\":\"#2a3f5f\",\"arrowhead\":0,\"arrowwidth\":1},\"geo\":{\"bgcolor\":\"white\",\"landcolor\":\"#E5ECF6\",\"subunitcolor\":\"white\",\"showland\":true,\"showlakes\":true,\"lakecolor\":\"white\"},\"title\":{\"x\":0.05},\"mapbox\":{\"style\":\"light\"}}},\"xaxis\":{\"anchor\":\"y\",\"domain\":[0.0,1.0],\"title\":{\"text\":\"Category\"}},\"yaxis\":{\"anchor\":\"x\",\"domain\":[0.0,1.0],\"title\":{\"text\":\"Values\"}},\"legend\":{\"tracegroupgap\":0},\"title\":{\"text\":\"Bar Plot Example\"},\"barmode\":\"relative\"},                        {\"responsive\": true}                    ).then(function(){\n",
              "                            \n",
              "var gd = document.getElementById('a273ae84-65c2-48c5-afd2-cf3eaac46d83');\n",
              "var x = new MutationObserver(function (mutations, observer) {{\n",
              "        var display = window.getComputedStyle(gd).display;\n",
              "        if (!display || display === 'none') {{\n",
              "            console.log([gd, 'removed!']);\n",
              "            Plotly.purge(gd);\n",
              "            observer.disconnect();\n",
              "        }}\n",
              "}});\n",
              "\n",
              "// Listen for the removal of the full notebook cells\n",
              "var notebookContainer = gd.closest('#notebook-container');\n",
              "if (notebookContainer) {{\n",
              "    x.observe(notebookContainer, {childList: true});\n",
              "}}\n",
              "\n",
              "// Listen for the clearing of the current output cell\n",
              "var outputEl = gd.closest('.output');\n",
              "if (outputEl) {{\n",
              "    x.observe(outputEl, {childList: true});\n",
              "}}\n",
              "\n",
              "                        })                };                            </script>        </div>\n",
              "</body>\n",
              "</html>"
            ]
          },
          "metadata": {}
        }
      ]
    },
    {
      "cell_type": "markdown",
      "source": [
        "SOLUTION 6: Creating a DataFrame and Adding a New Column Based on an Existing Column"
      ],
      "metadata": {
        "id": "xChM-FYp8HhA"
      }
    },
    {
      "cell_type": "code",
      "source": [
        "import pandas as pd\n",
        "\n",
        "# Creating a DataFrame\n",
        "data = {'A': [1, 2, 3, 4]}\n",
        "df = pd.DataFrame(data)\n",
        "\n",
        "# Adding a new column 'B' that is double the values of column 'A'\n",
        "df['B'] = df['A'] * 2\n",
        "print(df)\n"
      ],
      "metadata": {
        "colab": {
          "base_uri": "https://localhost:8080/"
        },
        "id": "vb7Yuu4V8HJT",
        "outputId": "4ee1c937-f969-4820-e865-ea5cc515732a"
      },
      "execution_count": 8,
      "outputs": [
        {
          "output_type": "stream",
          "name": "stdout",
          "text": [
            "   A  B\n",
            "0  1  2\n",
            "1  2  4\n",
            "2  3  6\n",
            "3  4  8\n"
          ]
        }
      ]
    },
    {
      "cell_type": "markdown",
      "source": [
        "SOLUTION : Program to Perform Element-wise Multiplication of Two NumPy Arrays\n"
      ],
      "metadata": {
        "id": "I0TzJh4g8UMU"
      }
    },
    {
      "cell_type": "code",
      "source": [
        "import numpy as np\n",
        "\n",
        "# Creating two NumPy arrays\n",
        "array1 = np.array([1, 2, 3])\n",
        "array2 = np.array([4, 5, 6])\n",
        "\n",
        "# Performing element-wise multiplication\n",
        "elementwise_product = array1 * array2\n",
        "print(\"Element-wise multiplication result:\", elementwise_product)\n"
      ],
      "metadata": {
        "colab": {
          "base_uri": "https://localhost:8080/"
        },
        "id": "XINJXPQG8Tva",
        "outputId": "92f5c5c9-f6ed-4bb4-d793-091dd000ce02"
      },
      "execution_count": 9,
      "outputs": [
        {
          "output_type": "stream",
          "name": "stdout",
          "text": [
            "Element-wise multiplication result: [ 4 10 18]\n"
          ]
        }
      ]
    },
    {
      "cell_type": "markdown",
      "source": [
        "SOLUTION 8 : Creating a Line Plot with Multiple Lines Using Matplotlib\n"
      ],
      "metadata": {
        "id": "6he0d8g08hn6"
      }
    },
    {
      "cell_type": "code",
      "source": [
        "import matplotlib.pyplot as plt\n",
        "\n",
        "# Sample data\n",
        "x = [1, 2, 3, 4, 5]\n",
        "y1 = [1, 3, 2, 5, 4]\n",
        "y2 = [2, 4, 3, 6, 5]\n",
        "\n",
        "# Creating a line plot\n",
        "plt.plot(x, y1, label='Line 1', marker='o')\n",
        "plt.plot(x, y2, label='Line 2', marker='x')\n",
        "plt.title(\"Line Plot with Multiple Lines\")\n",
        "plt.xlabel(\"X-axis\")\n",
        "plt.ylabel(\"Y-axis\")\n",
        "plt.legend()\n",
        "plt.show()\n"
      ],
      "metadata": {
        "colab": {
          "base_uri": "https://localhost:8080/",
          "height": 472
        },
        "id": "C-xS2mI38hPj",
        "outputId": "d8a19331-2d00-4841-b156-84c485be9cf2"
      },
      "execution_count": 10,
      "outputs": [
        {
          "output_type": "display_data",
          "data": {
            "text/plain": [
              "<Figure size 640x480 with 1 Axes>"
            ],
            "image/png": "[encoded data removed]"
          },
          "metadata": {}
        }
      ]
    },
    {
      "cell_type": "markdown",
      "source": [
        "SOLUTION 9 : Generating a Pandas DataFrame and Filtering Rows Where a Column Value is Greater than a Threshold"
      ],
      "metadata": {
        "id": "4Eqsvx_N84Nl"
      }
    },
    {
      "cell_type": "code",
      "source": [
        "import pandas as pd\n",
        "\n",
        "# Creating a DataFrame\n",
        "data = {'A': [1, 2, 3, 4, 5]}\n",
        "df = pd.DataFrame(data)\n",
        "\n",
        "# Filtering rows where column 'A' > 3\n",
        "filtered_df = df[df['A'] > 3]\n",
        "print(\"Filtered DataFrame:\\n\", filtered_df)\n"
      ],
      "metadata": {
        "colab": {
          "base_uri": "https://localhost:8080/"
        },
        "id": "gGETlwv19Cin",
        "outputId": "05d280f5-3088-4359-fb2d-556e6ea78a3c"
      },
      "execution_count": 11,
      "outputs": [
        {
          "output_type": "stream",
          "name": "stdout",
          "text": [
            "Filtered DataFrame:\n",
            "    A\n",
            "3  4\n",
            "4  5\n"
          ]
        }
      ]
    },
    {
      "cell_type": "markdown",
      "source": [
        "SOLUTION 10 :Creating a Histogram Using Seaborn to Visualize a Distribution"
      ],
      "metadata": {
        "id": "CQ9TwuQl9I9p"
      }
    },
    {
      "cell_type": "code",
      "source": [
        "import seaborn as sns\n",
        "import matplotlib.pyplot as plt\n",
        "\n",
        "# Sample data\n",
        "data = [1, 2, 2, 3, 3, 3, 4, 4, 5, 5]\n",
        "\n",
        "# Creating a histogram\n",
        "sns.histplot(data, bins=5, kde=True)\n",
        "plt.title(\"Histogram with Density Plot\")\n",
        "plt.xlabel(\"Values\")\n",
        "plt.ylabel(\"Frequency\")\n",
        "plt.show()\n"
      ],
      "metadata": {
        "colab": {
          "base_uri": "https://localhost:8080/",
          "height": 472
        },
        "id": "_YaUG-9L9IgH",
        "outputId": "3822da47-0323-47e8-f999-30d5056d020e"
      },
      "execution_count": 12,
      "outputs": [
        {
          "output_type": "display_data",
          "data": {
            "text/plain": [
              "<Figure size 640x480 with 1 Axes>"
            ],
            "image/png": "[encoded data removed]"
          },
          "metadata": {}
        }
      ]
    },
    {
      "cell_type": "markdown",
      "source": [
        "SOLUTION 11: Performing Matrix Multiplication Using NumPy"
      ],
      "metadata": {
        "id": "vLUVeIV69ZUT"
      }
    },
    {
      "cell_type": "code",
      "source": [
        "import numpy as np\n",
        "\n",
        "# Creating two matrices\n",
        "matrix1 = np.array([[1, 2],\n",
        "                     [3, 4]])\n",
        "matrix2 = np.array([[5, 6],\n",
        "                     [7, 8]])\n",
        "\n",
        "# Performing matrix multiplication\n",
        "matrix_product = np.dot(matrix1, matrix2)\n",
        "print(\"Matrix multiplication result:\\n\", matrix_product)\n"
      ],
      "metadata": {
        "colab": {
          "base_uri": "https://localhost:8080/"
        },
        "id": "2vzj8VIm9Y2O",
        "outputId": "af4987ce-7c9b-4fda-b7d6-cb69cb0242a5"
      },
      "execution_count": 13,
      "outputs": [
        {
          "output_type": "stream",
          "name": "stdout",
          "text": [
            "Matrix multiplication result:\n",
            " [[19 22]\n",
            " [43 50]]\n"
          ]
        }
      ]
    },
    {
      "cell_type": "markdown",
      "source": [
        "SOLUTION : 12Using Pandas to Load a CSV File and Display Its First 5 Rows"
      ],
      "metadata": {
        "id": "fl4qn4AI9mCz"
      }
    },
    {
      "cell_type": "code",
      "source": [
        "import pandas as pd\n",
        "\n",
        "# Specify the file path to your CSV file (replace 'file.csv' with the actual path)\n",
        "file_path = 'file.csv'\n",
        "\n",
        "# Loading the CSV file into a DataFrame\n",
        "\n",
        "\n",
        "# Displaying the first 5 rows of the DataFrame\n",
        "print(df.head())\n"
      ],
      "metadata": {
        "colab": {
          "base_uri": "https://localhost:8080/"
        },
        "id": "AQsceEhi975h",
        "outputId": "8fcb9317-7391-4893-82c0-f880ce6a2bde"
      },
      "execution_count": 18,
      "outputs": [
        {
          "output_type": "stream",
          "name": "stdout",
          "text": [
            "   A\n",
            "0  1\n",
            "1  2\n",
            "2  3\n",
            "3  4\n",
            "4  5\n"
          ]
        }
      ]
    },
    {
      "cell_type": "markdown",
      "source": [
        "SOLUTION 13 : Creating a 3D Scatter Plot Using Plotly"
      ],
      "metadata": {
        "id": "cgu0UdqQ99d6"
      }
    },
    {
      "cell_type": "code",
      "source": [
        "import plotly.express as px\n",
        "\n",
        "# Sample data\n",
        "data = {\n",
        "    'x': [1, 2, 3, 4, 5],\n",
        "    'y': [5, 6, 2, 3, 5],\n",
        "    'z': [10, 11, 12, 13, 14]\n",
        "}\n",
        "\n",
        "# Creating a 3D scatter plot\n",
        "fig = px.scatter_3d(pd.DataFrame(data), x='x', y='y', z='z', title='3D Scatter Plot Example')\n",
        "fig.show()\n"
      ],
      "metadata": {
        "colab": {
          "base_uri": "https://localhost:8080/",
          "height": 542
        },
        "id": "WT0BaTh8986w",
        "outputId": "b063e6ed-c9f4-4b7d-a82a-1201e66551c1"
      },
      "execution_count": 16,
      "outputs": [
        {
          "output_type": "display_data",
          "data": {
            "text/html": [
              "<html>\n",
              "<head><meta charset=\"utf-8\" /></head>\n",
              "<body>\n",
              "    <div>            <script src=\"https://cdnjs.cloudflare.com/ajax/libs/mathjax/2.7.5/MathJax.js?config=TeX-AMS-MML_SVG\"></script><script type=\"text/javascript\">if (window.MathJax && window.MathJax.Hub && window.MathJax.Hub.Config) {window.MathJax.Hub.Config({SVG: {font: \"STIX-Web\"}});}</script>                <script type=\"text/javascript\">window.PlotlyConfig = {MathJaxConfig: 'local'};</script>\n",
              "        <script charset=\"utf-8\" src=\"https://cdn.plot.ly/plotly-2.35.2.min.js\"></script>                <div id=\"49fc0fcd-e269-440d-aa36-4052325ee8a0\" class=\"plotly-graph-div\" style=\"height:525px; width:100%;\"></div>            <script type=\"text/javascript\">                                    window.PLOTLYENV=window.PLOTLYENV || {};                                    if (document.getElementById(\"49fc0fcd-e269-440d-aa36-4052325ee8a0\")) {                    Plotly.newPlot(                        \"49fc0fcd-e269-440d-aa36-4052325ee8a0\",                        [{\"hovertemplate\":\"x=%{x}\\u003cbr\\u003ey=%{y}\\u003cbr\\u003ez=%{z}\\u003cextra\\u003e\\u003c\\u002fextra\\u003e\",\"legendgroup\":\"\",\"marker\":{\"color\":\"#636efa\",\"symbol\":\"circle\"},\"mode\":\"markers\",\"name\":\"\",\"scene\":\"scene\",\"showlegend\":false,\"x\":[1,2,3,4,5],\"y\":[5,6,2,3,5],\"z\":[10,11,12,13,14],\"type\":\"scatter3d\"}],                        {\"template\":{\"data\":{\"histogram2dcontour\":[{\"type\":\"histogram2dcontour\",\"colorbar\":{\"outlinewidth\":0,\"ticks\":\"\"},\"colorscale\":[[0.0,\"#0d0887\"],[0.1111111111111111,\"#46039f\"],[0.2222222222222222,\"#7201a8\"],[0.3333333333333333,\"#9c179e\"],[0.4444444444444444,\"#bd3786\"],[0.5555555555555556,\"#d8576b\"],[0.6666666666666666,\"#ed7953\"],[0.7777777777777778,\"#fb9f3a\"],[0.8888888888888888,\"#fdca26\"],[1.0,\"#f0f921\"]]}],\"choropleth\":[{\"type\":\"choropleth\",\"colorbar\":{\"outlinewidth\":0,\"ticks\":\"\"}}],\"histogram2d\":[{\"type\":\"histogram2d\",\"colorbar\":{\"outlinewidth\":0,\"ticks\":\"\"},\"colorscale\":[[0.0,\"#0d0887\"],[0.1111111111111111,\"#46039f\"],[0.2222222222222222,\"#7201a8\"],[0.3333333333333333,\"#9c179e\"],[0.4444444444444444,\"#bd3786\"],[0.5555555555555556,\"#d8576b\"],[0.6666666666666666,\"#ed7953\"],[0.7777777777777778,\"#fb9f3a\"],[0.8888888888888888,\"#fdca26\"],[1.0,\"#f0f921\"]]}],\"heatmap\":[{\"type\":\"heatmap\",\"colorbar\":{\"outlinewidth\":0,\"ticks\":\"\"},\"colorscale\":[[0.0,\"#0d0887\"],[0.1111111111111111,\"#46039f\"],[0.2222222222222222,\"#7201a8\"],[0.3333333333333333,\"#9c179e\"],[0.4444444444444444,\"#bd3786\"],[0.5555555555555556,\"#d8576b\"],[0.6666666666666666,\"#ed7953\"],[0.7777777777777778,\"#fb9f3a\"],[0.8888888888888888,\"#fdca26\"],[1.0,\"#f0f921\"]]}],\"heatmapgl\":[{\"type\":\"heatmapgl\",\"colorbar\":{\"outlinewidth\":0,\"ticks\":\"\"},\"colorscale\":[[0.0,\"#0d0887\"],[0.1111111111111111,\"#46039f\"],[0.2222222222222222,\"#7201a8\"],[0.3333333333333333,\"#9c179e\"],[0.4444444444444444,\"#bd3786\"],[0.5555555555555556,\"#d8576b\"],[0.6666666666666666,\"#ed7953\"],[0.7777777777777778,\"#fb9f3a\"],[0.8888888888888888,\"#fdca26\"],[1.0,\"#f0f921\"]]}],\"contourcarpet\":[{\"type\":\"contourcarpet\",\"colorbar\":{\"outlinewidth\":0,\"ticks\":\"\"}}],\"contour\":[{\"type\":\"contour\",\"colorbar\":{\"outlinewidth\":0,\"ticks\":\"\"},\"colorscale\":[[0.0,\"#0d0887\"],[0.1111111111111111,\"#46039f\"],[0.2222222222222222,\"#7201a8\"],[0.3333333333333333,\"#9c179e\"],[0.4444444444444444,\"#bd3786\"],[0.5555555555555556,\"#d8576b\"],[0.6666666666666666,\"#ed7953\"],[0.7777777777777778,\"#fb9f3a\"],[0.8888888888888888,\"#fdca26\"],[1.0,\"#f0f921\"]]}],\"surface\":[{\"type\":\"surface\",\"colorbar\":{\"outlinewidth\":0,\"ticks\":\"\"},\"colorscale\":[[0.0,\"#0d0887\"],[0.1111111111111111,\"#46039f\"],[0.2222222222222222,\"#7201a8\"],[0.3333333333333333,\"#9c179e\"],[0.4444444444444444,\"#bd3786\"],[0.5555555555555556,\"#d8576b\"],[0.6666666666666666,\"#ed7953\"],[0.7777777777777778,\"#fb9f3a\"],[0.8888888888888888,\"#fdca26\"],[1.0,\"#f0f921\"]]}],\"mesh3d\":[{\"type\":\"mesh3d\",\"colorbar\":{\"outlinewidth\":0,\"ticks\":\"\"}}],\"scatter\":[{\"fillpattern\":{\"fillmode\":\"overlay\",\"size\":10,\"solidity\":0.2},\"type\":\"scatter\"}],\"parcoords\":[{\"type\":\"parcoords\",\"line\":{\"colorbar\":{\"outlinewidth\":0,\"ticks\":\"\"}}}],\"scatterpolargl\":[{\"type\":\"scatterpolargl\",\"marker\":{\"colorbar\":{\"outlinewidth\":0,\"ticks\":\"\"}}}],\"bar\":[{\"error_x\":{\"color\":\"#2a3f5f\"},\"error_y\":{\"color\":\"#2a3f5f\"},\"marker\":{\"line\":{\"color\":\"#E5ECF6\",\"width\":0.5},\"pattern\":{\"fillmode\":\"overlay\",\"size\":10,\"solidity\":0.2}},\"type\":\"bar\"}],\"scattergeo\":[{\"type\":\"scattergeo\",\"marker\":{\"colorbar\":{\"outlinewidth\":0,\"ticks\":\"\"}}}],\"scatterpolar\":[{\"type\":\"scatterpolar\",\"marker\":{\"colorbar\":{\"outlinewidth\":0,\"ticks\":\"\"}}}],\"histogram\":[{\"marker\":{\"pattern\":{\"fillmode\":\"overlay\",\"size\":10,\"solidity\":0.2}},\"type\":\"histogram\"}],\"scattergl\":[{\"type\":\"scattergl\",\"marker\":{\"colorbar\":{\"outlinewidth\":0,\"ticks\":\"\"}}}],\"scatter3d\":[{\"type\":\"scatter3d\",\"line\":{\"colorbar\":{\"outlinewidth\":0,\"ticks\":\"\"}},\"marker\":{\"colorbar\":{\"outlinewidth\":0,\"ticks\":\"\"}}}],\"scattermapbox\":[{\"type\":\"scattermapbox\",\"marker\":{\"colorbar\":{\"outlinewidth\":0,\"ticks\":\"\"}}}],\"scatterternary\":[{\"type\":\"scatterternary\",\"marker\":{\"colorbar\":{\"outlinewidth\":0,\"ticks\":\"\"}}}],\"scattercarpet\":[{\"type\":\"scattercarpet\",\"marker\":{\"colorbar\":{\"outlinewidth\":0,\"ticks\":\"\"}}}],\"carpet\":[{\"aaxis\":{\"endlinecolor\":\"#2a3f5f\",\"gridcolor\":\"white\",\"linecolor\":\"white\",\"minorgridcolor\":\"white\",\"startlinecolor\":\"#2a3f5f\"},\"baxis\":{\"endlinecolor\":\"#2a3f5f\",\"gridcolor\":\"white\",\"linecolor\":\"white\",\"minorgridcolor\":\"white\",\"startlinecolor\":\"#2a3f5f\"},\"type\":\"carpet\"}],\"table\":[{\"cells\":{\"fill\":{\"color\":\"#EBF0F8\"},\"line\":{\"color\":\"white\"}},\"header\":{\"fill\":{\"color\":\"#C8D4E3\"},\"line\":{\"color\":\"white\"}},\"type\":\"table\"}],\"barpolar\":[{\"marker\":{\"line\":{\"color\":\"#E5ECF6\",\"width\":0.5},\"pattern\":{\"fillmode\":\"overlay\",\"size\":10,\"solidity\":0.2}},\"type\":\"barpolar\"}],\"pie\":[{\"automargin\":true,\"type\":\"pie\"}]},\"layout\":{\"autotypenumbers\":\"strict\",\"colorway\":[\"#636efa\",\"#EF553B\",\"#00cc96\",\"#ab63fa\",\"#FFA15A\",\"#19d3f3\",\"#FF6692\",\"#B6E880\",\"#FF97FF\",\"#FECB52\"],\"font\":{\"color\":\"#2a3f5f\"},\"hovermode\":\"closest\",\"hoverlabel\":{\"align\":\"left\"},\"paper_bgcolor\":\"white\",\"plot_bgcolor\":\"#E5ECF6\",\"polar\":{\"bgcolor\":\"#E5ECF6\",\"angularaxis\":{\"gridcolor\":\"white\",\"linecolor\":\"white\",\"ticks\":\"\"},\"radialaxis\":{\"gridcolor\":\"white\",\"linecolor\":\"white\",\"ticks\":\"\"}},\"ternary\":{\"bgcolor\":\"#E5ECF6\",\"aaxis\":{\"gridcolor\":\"white\",\"linecolor\":\"white\",\"ticks\":\"\"},\"baxis\":{\"gridcolor\":\"white\",\"linecolor\":\"white\",\"ticks\":\"\"},\"caxis\":{\"gridcolor\":\"white\",\"linecolor\":\"white\",\"ticks\":\"\"}},\"coloraxis\":{\"colorbar\":{\"outlinewidth\":0,\"ticks\":\"\"}},\"colorscale\":{\"sequential\":[[0.0,\"#0d0887\"],[0.1111111111111111,\"#46039f\"],[0.2222222222222222,\"#7201a8\"],[0.3333333333333333,\"#9c179e\"],[0.4444444444444444,\"#bd3786\"],[0.5555555555555556,\"#d8576b\"],[0.6666666666666666,\"#ed7953\"],[0.7777777777777778,\"#fb9f3a\"],[0.8888888888888888,\"#fdca26\"],[1.0,\"#f0f921\"]],\"sequentialminus\":[[0.0,\"#0d0887\"],[0.1111111111111111,\"#46039f\"],[0.2222222222222222,\"#7201a8\"],[0.3333333333333333,\"#9c179e\"],[0.4444444444444444,\"#bd3786\"],[0.5555555555555556,\"#d8576b\"],[0.6666666666666666,\"#ed7953\"],[0.7777777777777778,\"#fb9f3a\"],[0.8888888888888888,\"#fdca26\"],[1.0,\"#f0f921\"]],\"diverging\":[[0,\"#8e0152\"],[0.1,\"#c51b7d\"],[0.2,\"#de77ae\"],[0.3,\"#f1b6da\"],[0.4,\"#fde0ef\"],[0.5,\"#f7f7f7\"],[0.6,\"#e6f5d0\"],[0.7,\"#b8e186\"],[0.8,\"#7fbc41\"],[0.9,\"#4d9221\"],[1,\"#276419\"]]},\"xaxis\":{\"gridcolor\":\"white\",\"linecolor\":\"white\",\"ticks\":\"\",\"title\":{\"standoff\":15},\"zerolinecolor\":\"white\",\"automargin\":true,\"zerolinewidth\":2},\"yaxis\":{\"gridcolor\":\"white\",\"linecolor\":\"white\",\"ticks\":\"\",\"title\":{\"standoff\":15},\"zerolinecolor\":\"white\",\"automargin\":true,\"zerolinewidth\":2},\"scene\":{\"xaxis\":{\"backgroundcolor\":\"#E5ECF6\",\"gridcolor\":\"white\",\"linecolor\":\"white\",\"showbackground\":true,\"ticks\":\"\",\"zerolinecolor\":\"white\",\"gridwidth\":2},\"yaxis\":{\"backgroundcolor\":\"#E5ECF6\",\"gridcolor\":\"white\",\"linecolor\":\"white\",\"showbackground\":true,\"ticks\":\"\",\"zerolinecolor\":\"white\",\"gridwidth\":2},\"zaxis\":{\"backgroundcolor\":\"#E5ECF6\",\"gridcolor\":\"white\",\"linecolor\":\"white\",\"showbackground\":true,\"ticks\":\"\",\"zerolinecolor\":\"white\",\"gridwidth\":2}},\"shapedefaults\":{\"line\":{\"color\":\"#2a3f5f\"}},\"annotationdefaults\":{\"arrowcolor\":\"#2a3f5f\",\"arrowhead\":0,\"arrowwidth\":1},\"geo\":{\"bgcolor\":\"white\",\"landcolor\":\"#E5ECF6\",\"subunitcolor\":\"white\",\"showland\":true,\"showlakes\":true,\"lakecolor\":\"white\"},\"title\":{\"x\":0.05},\"mapbox\":{\"style\":\"light\"}}},\"scene\":{\"domain\":{\"x\":[0.0,1.0],\"y\":[0.0,1.0]},\"xaxis\":{\"title\":{\"text\":\"x\"}},\"yaxis\":{\"title\":{\"text\":\"y\"}},\"zaxis\":{\"title\":{\"text\":\"z\"}}},\"legend\":{\"tracegroupgap\":0},\"title\":{\"text\":\"3D Scatter Plot Example\"}},                        {\"responsive\": true}                    ).then(function(){\n",
              "                            \n",
              "var gd = document.getElementById('49fc0fcd-e269-440d-aa36-4052325ee8a0');\n",
              "var x = new MutationObserver(function (mutations, observer) {{\n",
              "        var display = window.getComputedStyle(gd).display;\n",
              "        if (!display || display === 'none') {{\n",
              "            console.log([gd, 'removed!']);\n",
              "            Plotly.purge(gd);\n",
              "            observer.disconnect();\n",
              "        }}\n",
              "}});\n",
              "\n",
              "// Listen for the removal of the full notebook cells\n",
              "var notebookContainer = gd.closest('#notebook-container');\n",
              "if (notebookContainer) {{\n",
              "    x.observe(notebookContainer, {childList: true});\n",
              "}}\n",
              "\n",
              "// Listen for the clearing of the current output cell\n",
              "var outputEl = gd.closest('.output');\n",
              "if (outputEl) {{\n",
              "    x.observe(outputEl, {childList: true});\n",
              "}}\n",
              "\n",
              "                        })                };                            </script>        </div>\n",
              "</body>\n",
              "</html>"
            ]
          },
          "metadata": {}
        }
      ]
    }
  ]
}